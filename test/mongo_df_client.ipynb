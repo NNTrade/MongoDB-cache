{
 "cells": [
  {
   "cell_type": "code",
   "execution_count": 1,
   "metadata": {},
   "outputs": [],
   "source": [
    "from pymongo import MongoClient\n",
    "import pandas as pd\n"
   ]
  },
  {
   "cell_type": "code",
   "execution_count": 2,
   "metadata": {},
   "outputs": [
    {
     "data": {
      "text/html": [
       "<div>\n",
       "<style scoped>\n",
       "    .dataframe tbody tr th:only-of-type {\n",
       "        vertical-align: middle;\n",
       "    }\n",
       "\n",
       "    .dataframe tbody tr th {\n",
       "        vertical-align: top;\n",
       "    }\n",
       "\n",
       "    .dataframe thead th {\n",
       "        text-align: right;\n",
       "    }\n",
       "</style>\n",
       "<table border=\"1\" class=\"dataframe\">\n",
       "  <thead>\n",
       "    <tr style=\"text-align: right;\">\n",
       "      <th></th>\n",
       "      <th>A</th>\n",
       "      <th>B</th>\n",
       "    </tr>\n",
       "  </thead>\n",
       "  <tbody>\n",
       "    <tr>\n",
       "      <th>10</th>\n",
       "      <td>1</td>\n",
       "      <td>4</td>\n",
       "    </tr>\n",
       "    <tr>\n",
       "      <th>11</th>\n",
       "      <td>2</td>\n",
       "      <td>5</td>\n",
       "    </tr>\n",
       "    <tr>\n",
       "      <th>12</th>\n",
       "      <td>3</td>\n",
       "      <td>6</td>\n",
       "    </tr>\n",
       "  </tbody>\n",
       "</table>\n",
       "</div>"
      ],
      "text/plain": [
       "    A  B\n",
       "10  1  4\n",
       "11  2  5\n",
       "12  3  6"
      ]
     },
     "execution_count": 2,
     "metadata": {},
     "output_type": "execute_result"
    }
   ],
   "source": [
    "test_df = pd.DataFrame({\"A\":[1,2,3], \"B\":[4,5,6]},index=[10,11,12])\n",
    "test_df.index = test_df.index.map(lambda el:str(el))\n",
    "test_df"
   ]
  },
  {
   "cell_type": "code",
   "execution_count": 3,
   "metadata": {},
   "outputs": [],
   "source": [
    "from pymongo import MongoClient\n",
    "mng_client = MongoClient(\n",
    "    host=\"192.168.34.2\",\n",
    "    port=8001,\n",
    "    username='strategybot',\n",
    "    password=\"strategybot\",\n",
    "    authSource='strategies')\n",
    "mng_db = mng_client['strategies']\n",
    "mng_collection = mng_db[\"test_col\"]"
   ]
  },
  {
   "cell_type": "code",
   "execution_count": 4,
   "metadata": {},
   "outputs": [
    {
     "data": {
      "text/plain": [
       "ObjectId('61ec958d567baaa42a0dcda9')"
      ]
     },
     "execution_count": 4,
     "metadata": {},
     "output_type": "execute_result"
    }
   ],
   "source": [
    "config = {\"f1\":\"test\", \"f2\":\"test3\"}\n",
    "\n",
    "data = {\n",
    "    \"config\":config,\n",
    "    \"payload\":test_df.to_dict()\n",
    "}\n",
    "\n",
    "_id = mng_collection.insert_one(data)\n",
    "_id.inserted_id"
   ]
  },
  {
   "cell_type": "code",
   "execution_count": 5,
   "metadata": {},
   "outputs": [
    {
     "data": {
      "text/plain": [
       "'61ec958d567baaa42a0dcda9'"
      ]
     },
     "execution_count": 5,
     "metadata": {},
     "output_type": "execute_result"
    }
   ],
   "source": [
    "str_id = str(_id.inserted_id)\n",
    "str_id"
   ]
  },
  {
   "cell_type": "code",
   "execution_count": 6,
   "metadata": {},
   "outputs": [
    {
     "data": {
      "text/plain": [
       "ObjectId('61ec958d567baaa42a0dcda9')"
      ]
     },
     "execution_count": 6,
     "metadata": {},
     "output_type": "execute_result"
    }
   ],
   "source": [
    "from bson.objectid import ObjectId\n",
    "ObjectId(str_id)"
   ]
  },
  {
   "cell_type": "code",
   "execution_count": 7,
   "metadata": {},
   "outputs": [
    {
     "name": "stdout",
     "output_type": "stream",
     "text": [
      "{'f1': 'test', 'f2': 'test3'}\n",
      "    A  B\n",
      "10  1  4\n",
      "11  2  5\n",
      "12  3  6\n"
     ]
    }
   ],
   "source": [
    "from bson.objectid import ObjectId\n",
    "for doc in mng_collection.find({\"_id\":ObjectId(str_id)}):\n",
    "    print(doc[\"config\"])\n",
    "    print(pd.DataFrame.from_dict(doc[\"payload\"]))"
   ]
  },
  {
   "cell_type": "code",
   "execution_count": 8,
   "metadata": {},
   "outputs": [
    {
     "name": "stdout",
     "output_type": "stream",
     "text": [
      "{'f1': 'test', 'f2': 'test3'}\n",
      "    A  B\n",
      "10  1  4\n",
      "11  2  5\n",
      "12  3  6\n",
      "{'f1': 'test', 'f2': 'test3'}\n",
      "    A  B\n",
      "10  1  4\n",
      "11  2  5\n",
      "12  3  6\n",
      "{'f1': 'test', 'f2': 'test3'}\n",
      "    A  B\n",
      "10  1  4\n",
      "11  2  5\n",
      "12  3  6\n",
      "{'f1': 'test', 'f2': 'test3'}\n",
      "    A  B\n",
      "10  1  4\n",
      "11  2  5\n",
      "12  3  6\n"
     ]
    }
   ],
   "source": [
    "for doc in mng_collection.find({\"config.f2\":\"test3\"}):\n",
    "    print(doc[\"config\"])\n",
    "    print(pd.DataFrame.from_dict(doc[\"payload\"]))"
   ]
  },
  {
   "cell_type": "code",
   "execution_count": 9,
   "metadata": {},
   "outputs": [
    {
     "data": {
      "text/plain": [
       "{'config.f2': 'test3'}"
      ]
     },
     "execution_count": 9,
     "metadata": {},
     "output_type": "execute_result"
    }
   ],
   "source": [
    "base_select = {\"f2\": \"test3\"}\n",
    "query_config = {}\n",
    "for conf in base_select:\n",
    "    query_config[f\"config.{conf}\"] = config[conf]\n",
    "query_config"
   ]
  },
  {
   "cell_type": "code",
   "execution_count": 10,
   "metadata": {},
   "outputs": [
    {
     "name": "stdout",
     "output_type": "stream",
     "text": [
      "{'_id': ObjectId('61ec5a3a5f20f63d0d541b0f'), 'config': {'f1': 'test', 'f2': 'test3'}, 'payload': {'A': {'10': 1, '11': 2, '12': 3}, 'B': {'10': 4, '11': 5, '12': 6}}}\n",
      "{'f1': 'test', 'f2': 'test3'}\n",
      "    A  B\n",
      "10  1  4\n",
      "11  2  5\n",
      "12  3  6\n",
      "{'_id': ObjectId('61ec653ddc78380d6cfb3050'), 'config': {'f1': 'test', 'f2': 'test3'}, 'payload': {'A': {'10': 1, '11': 2, '12': 3}, 'B': {'10': 4, '11': 5, '12': 6}}}\n",
      "{'f1': 'test', 'f2': 'test3'}\n",
      "    A  B\n",
      "10  1  4\n",
      "11  2  5\n",
      "12  3  6\n",
      "{'_id': ObjectId('61ec73c6dc78380d6cfb3051'), 'config': {'f1': 'test', 'f2': 'test3'}, 'payload': {'A': {'10': 1, '11': 2, '12': 3}, 'B': {'10': 4, '11': 5, '12': 6}}}\n",
      "{'f1': 'test', 'f2': 'test3'}\n",
      "    A  B\n",
      "10  1  4\n",
      "11  2  5\n",
      "12  3  6\n",
      "{'_id': ObjectId('61ec958d567baaa42a0dcda9'), 'config': {'f1': 'test', 'f2': 'test3'}, 'payload': {'A': {'10': 1, '11': 2, '12': 3}, 'B': {'10': 4, '11': 5, '12': 6}}}\n",
      "{'f1': 'test', 'f2': 'test3'}\n",
      "    A  B\n",
      "10  1  4\n",
      "11  2  5\n",
      "12  3  6\n"
     ]
    }
   ],
   "source": [
    "for doc in mng_collection.find(query_config):\n",
    "    print(doc)\n",
    "    print(doc[\"config\"])\n",
    "    print(pd.DataFrame.from_dict(doc[\"payload\"]))"
   ]
  },
  {
   "cell_type": "code",
   "execution_count": 11,
   "metadata": {},
   "outputs": [
    {
     "data": {
      "text/plain": [
       "'beeafc51-0155-44e0-847b-dcdb251ea2f6'"
      ]
     },
     "execution_count": 11,
     "metadata": {},
     "output_type": "execute_result"
    }
   ],
   "source": [
    "import uuid\n",
    "str(uuid.uuid4())"
   ]
  }
 ],
 "metadata": {
  "interpreter": {
   "hash": "949777d72b0d2535278d3dc13498b2535136f6dfe0678499012e853ee9abcab1"
  },
  "kernelspec": {
   "display_name": "Python 3.9.9 64-bit",
   "language": "python",
   "name": "python3"
  },
  "language_info": {
   "codemirror_mode": {
    "name": "ipython",
    "version": 3
   },
   "file_extension": ".py",
   "mimetype": "text/x-python",
   "name": "python",
   "nbconvert_exporter": "python",
   "pygments_lexer": "ipython3",
   "version": "3.9.9"
  },
  "orig_nbformat": 4
 },
 "nbformat": 4,
 "nbformat_minor": 2
}
